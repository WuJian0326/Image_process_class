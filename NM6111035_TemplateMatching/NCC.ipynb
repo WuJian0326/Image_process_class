{
 "cells": [
  {
   "cell_type": "code",
   "execution_count": 1,
   "id": "a2f66d12",
   "metadata": {},
   "outputs": [],
   "source": [
    "import numpy as np\n",
    "import cv2\n",
    "import matplotlib.pyplot as plt\n",
    "import numpy as np\n",
    "from tqdm import tqdm\n",
    "import os\n",
    "import time\n"
   ]
  },
  {
   "cell_type": "code",
   "execution_count": 2,
   "id": "7d588e51",
   "metadata": {},
   "outputs": [],
   "source": [
    "\n",
    "\n",
    "def normalized_cross_correlation_coefficient(image, template):\n",
    "    \"\"\"\n",
    "    计算规范化交叉相关系数\n",
    "    :param image: 图像\n",
    "    :param template: 模板图像\n",
    "    :return: 规范化交叉相关系数\n",
    "    \"\"\"\n",
    "    # 计算图像和模板的平均值\n",
    "    image_mean = np.mean(image)\n",
    "    template_mean = np.mean(template)\n",
    "\n",
    "    # 计算图像和模板的标准差\n",
    "    image_std = np.std(image)\n",
    "    template_std = np.std(template)\n",
    "\n",
    "    # 计算图像和模板的乘积之和\n",
    "    sum_product = np.sum((image - image_mean) * (template - template_mean))\n",
    "\n",
    "    # 计算规范化交叉相关系数\n",
    "    nccc = sum_product / ((image.size - 1) * image_std * template_std)\n",
    "\n",
    "    return nccc\n",
    "\n",
    "def template_matching(image, template):\n",
    "    \"\"\"\n",
    "    进行模板匹配\n",
    "    :param image: 图像\n",
    "    :param template: 模板图像\n",
    "    :return: 结果图像\n",
    "    \"\"\"\n",
    "    begin = time.time()\n",
    "    \n",
    "    # 获取图像的高度和宽度\n",
    "    height, width = image.shape[:2]\n",
    "    template_height, template_width = template.shape[:2]\n",
    "\n",
    "    # 创建结果图像，用于显示匹配结果\n",
    "    result = np.empty((height - template_height + 1, width - template_width + 1))\n",
    "\n",
    "    # 遍历每个像素，计算规范化交叉相关系数\n",
    "    for y in range(height - template_height + 1):\n",
    "        for x in range(width - template_width + 1):\n",
    "            roi = image[y:y + template_height, x:x + template_width]\n",
    "            result[y, x] = normalized_cross_correlation_coefficient(roi, template)\n",
    "    end = time.time()\n",
    "    print(end-begin)\n",
    "    return result"
   ]
  },
  {
   "cell_type": "code",
   "execution_count": 3,
   "id": "66e8dcfa",
   "metadata": {},
   "outputs": [],
   "source": [
    "def draw(img,h,w,th,tw,color):\n",
    "    image_drawed = img.copy()\n",
    "    image_drawed[h:h+5,w:w+tw] = color\n",
    "    image_drawed[h+th-5:h+th,w:w+tw] = color\n",
    "    image_drawed[h:h+th,w:w+5] = color\n",
    "    image_drawed[h:h+th,w+tw-5:w+tw] = color\n",
    "    image_drawed[(h+h+th) // 2,w:w+tw] = color\n",
    "    image_drawed[h:h+th,(w + w+tw) // 2] = color\n",
    "    return image_drawed"
   ]
  },
  {
   "cell_type": "code",
   "execution_count": 4,
   "id": "0449aa3a",
   "metadata": {},
   "outputs": [],
   "source": [
    "def center(h,w,th,tw):\n",
    "    h = ((h + h) + th) // 2\n",
    "    w = ((w + w) + tw) // 2\n",
    "    return h,w\n",
    "\n",
    "def center_diff(h,w,h1,w1):\n",
    "    return ((h-h1) ** 2 + (w-w1) ** 2) ** 0.5 "
   ]
  },
  {
   "cell_type": "code",
   "execution_count": 5,
   "id": "01533e98",
   "metadata": {},
   "outputs": [
    {
     "name": "stderr",
     "output_type": "stream",
     "text": [
      "\r",
      "  0%|                                                    | 0/16 [00:00<?, ?it/s]"
     ]
    },
    {
     "name": "stdout",
     "output_type": "stream",
     "text": [
      "9.390403985977173\n"
     ]
    },
    {
     "name": "stderr",
     "output_type": "stream",
     "text": [
      "\r",
      "  6%|██▊                                         | 1/16 [00:09<02:26,  9.79s/it]"
     ]
    },
    {
     "name": "stdout",
     "output_type": "stream",
     "text": [
      "0.2571568489074707\n",
      "9.353968143463135\n"
     ]
    },
    {
     "name": "stderr",
     "output_type": "stream",
     "text": [
      "\r",
      " 12%|█████▌                                      | 2/16 [00:19<02:16,  9.77s/it]"
     ]
    },
    {
     "name": "stdout",
     "output_type": "stream",
     "text": [
      "0.2590360641479492\n",
      "9.406190633773804\n"
     ]
    },
    {
     "name": "stderr",
     "output_type": "stream",
     "text": [
      "\r",
      " 19%|████████▎                                   | 3/16 [00:29<02:07,  9.78s/it]"
     ]
    },
    {
     "name": "stdout",
     "output_type": "stream",
     "text": [
      "0.25954437255859375\n",
      "9.231209993362427\n"
     ]
    },
    {
     "name": "stderr",
     "output_type": "stream",
     "text": [
      "\r",
      " 25%|███████████                                 | 4/16 [00:38<01:56,  9.73s/it]"
     ]
    },
    {
     "name": "stdout",
     "output_type": "stream",
     "text": [
      "0.268876314163208\n",
      "9.19376516342163\n"
     ]
    },
    {
     "name": "stderr",
     "output_type": "stream",
     "text": [
      "\r",
      " 31%|█████████████▊                              | 5/16 [00:48<01:46,  9.68s/it]"
     ]
    },
    {
     "name": "stdout",
     "output_type": "stream",
     "text": [
      "0.2528107166290283\n",
      "9.158443927764893\n"
     ]
    },
    {
     "name": "stderr",
     "output_type": "stream",
     "text": [
      "\r",
      " 38%|████████████████▌                           | 6/16 [00:58<01:36,  9.63s/it]"
     ]
    },
    {
     "name": "stdout",
     "output_type": "stream",
     "text": [
      "0.2534980773925781\n",
      "9.125375032424927\n"
     ]
    },
    {
     "name": "stderr",
     "output_type": "stream",
     "text": [
      "\r",
      " 44%|███████████████████▎                        | 7/16 [01:07<01:26,  9.60s/it]"
     ]
    },
    {
     "name": "stdout",
     "output_type": "stream",
     "text": [
      "0.2547032833099365\n",
      "9.063154935836792\n"
     ]
    },
    {
     "name": "stderr",
     "output_type": "stream",
     "text": [
      "\r",
      " 50%|██████████████████████                      | 8/16 [01:17<01:16,  9.55s/it]"
     ]
    },
    {
     "name": "stdout",
     "output_type": "stream",
     "text": [
      "0.25003886222839355\n",
      "9.133933782577515\n"
     ]
    },
    {
     "name": "stderr",
     "output_type": "stream",
     "text": [
      "\r",
      " 56%|████████████████████████▊                   | 9/16 [01:26<01:06,  9.54s/it]"
     ]
    },
    {
     "name": "stdout",
     "output_type": "stream",
     "text": [
      "0.25087785720825195\n",
      "9.090181350708008\n"
     ]
    },
    {
     "name": "stderr",
     "output_type": "stream",
     "text": [
      "\r",
      " 62%|██████████████████████████▉                | 10/16 [01:36<00:57,  9.53s/it]"
     ]
    },
    {
     "name": "stdout",
     "output_type": "stream",
     "text": [
      "0.2689502239227295\n",
      "9.146090269088745\n"
     ]
    },
    {
     "name": "stderr",
     "output_type": "stream",
     "text": [
      "\r",
      " 69%|█████████████████████████████▌             | 11/16 [01:45<00:47,  9.53s/it]"
     ]
    },
    {
     "name": "stdout",
     "output_type": "stream",
     "text": [
      "0.2595491409301758\n",
      "9.155020475387573\n"
     ]
    },
    {
     "name": "stderr",
     "output_type": "stream",
     "text": [
      "\r",
      " 75%|████████████████████████████████▎          | 12/16 [01:55<00:38,  9.54s/it]"
     ]
    },
    {
     "name": "stdout",
     "output_type": "stream",
     "text": [
      "0.2515594959259033\n",
      "9.146722316741943\n"
     ]
    },
    {
     "name": "stderr",
     "output_type": "stream",
     "text": [
      "\r",
      " 81%|██████████████████████████████████▉        | 13/16 [02:04<00:28,  9.54s/it]"
     ]
    },
    {
     "name": "stdout",
     "output_type": "stream",
     "text": [
      "0.27398252487182617\n",
      "9.097363471984863\n"
     ]
    },
    {
     "name": "stderr",
     "output_type": "stream",
     "text": [
      "\r",
      " 88%|█████████████████████████████████████▋     | 14/16 [02:14<00:19,  9.53s/it]"
     ]
    },
    {
     "name": "stdout",
     "output_type": "stream",
     "text": [
      "0.25428009033203125\n",
      "9.171227216720581\n"
     ]
    },
    {
     "name": "stderr",
     "output_type": "stream",
     "text": [
      "\r",
      " 94%|████████████████████████████████████████▎  | 15/16 [02:23<00:09,  9.54s/it]"
     ]
    },
    {
     "name": "stdout",
     "output_type": "stream",
     "text": [
      "0.25402188301086426\n",
      "9.120733499526978\n"
     ]
    },
    {
     "name": "stderr",
     "output_type": "stream",
     "text": [
      "100%|███████████████████████████████████████████| 16/16 [02:33<00:00,  9.58s/it]"
     ]
    },
    {
     "name": "stdout",
     "output_type": "stream",
     "text": [
      "0.251727819442749\n"
     ]
    },
    {
     "name": "stderr",
     "output_type": "stream",
     "text": [
      "\n"
     ]
    }
   ],
   "source": [
    "\n",
    "\n",
    "# image = cv2.imread('Matching/circle/Panel1_circle1.bmp')\n",
    "path = 'Matching/circle/'\n",
    "out_path = 'Output/'\n",
    "template = cv2.imread('Matching/pattern/Template_BorderCircle.bmp')\n",
    "template_small = cv2.imread('Matching/pattern/Template_circle.bmp')\n",
    "pry = 3\n",
    "\n",
    "for file_name in  tqdm(os.listdir(path)):\n",
    "    image = cv2.imread(path + file_name)\n",
    "    image1 = cv2.resize(image, (image.shape[1]// pry, image.shape[0]// pry))\n",
    "    template1 = cv2.resize(template, (template.shape[1]// pry, template.shape[0]// pry))\n",
    "    template2 = cv2.resize(template_small, (template_small.shape[1]// pry, template_small.shape[0]// pry))\n",
    "\n",
    "    nccc = template_matching(image1, template1)\n",
    "\n",
    "    h, w = np.where(nccc == np.max(nccc))\n",
    "    h, w = h[0], w[0]\n",
    "\n",
    "    image_match = image1[h:h+template1.shape[1], w:w+template1.shape[0]].copy()\n",
    "\n",
    "    image_drawed1 = draw(image,h*pry,w*pry,template.shape[1],template.shape[0],[255,0,255])\n",
    "\n",
    "    center1_h,center1_w = center(h*pry,w*pry,template.shape[1],template.shape[0])\n",
    "\n",
    "\n",
    "    nccc2 = template_matching(image_match,template2)\n",
    "\n",
    "    h_small, w_small = np.where(nccc2 == np.max(nccc2))\n",
    "    h_small, w_small = h_small[0], w_small[0]\n",
    "\n",
    "    center2_h,center2_w = center(h*pry + h_small*pry,w*pry + w_small*pry,template_small.shape[1],template_small.shape[0])\n",
    "\n",
    "    distance = center_diff(center1_h,center1_w,center2_h,center2_w)\n",
    "\n",
    "    image_drawed2 = draw(image_drawed1,h*pry + h_small*pry,w*pry + w_small*pry,\n",
    "                         template_small.shape[1],template_small.shape[0],[0,0,255])\n",
    "\n",
    "\n",
    "    out = cv2.putText(image_drawed2, \"distance: \" + str(round(distance,4)), (40, 70), cv2.FONT_HERSHEY_SIMPLEX,\n",
    "      2, (255, 255, 255), 5, cv2.LINE_AA)\n",
    "\n",
    "    # print(image_drawed.shape)\n",
    "    # plt.imshow(image_match[h_small:h_small+template2.shape[1], w_small:w_small+template2.shape[0]])\n",
    "    plt.imsave((out_path + file_name).replace(\"bmp\",\"png\"),out)\n",
    "#     plt.show()"
   ]
  },
  {
   "cell_type": "code",
   "execution_count": 6,
   "id": "2c0b335a",
   "metadata": {},
   "outputs": [
    {
     "name": "stderr",
     "output_type": "stream",
     "text": [
      "\r",
      "  0%|                                                    | 0/16 [00:00<?, ?it/s]"
     ]
    },
    {
     "name": "stdout",
     "output_type": "stream",
     "text": [
      "9.12691855430603\n"
     ]
    },
    {
     "name": "stderr",
     "output_type": "stream",
     "text": [
      "\r",
      "  6%|██▊                                         | 1/16 [00:09<02:22,  9.52s/it]"
     ]
    },
    {
     "name": "stdout",
     "output_type": "stream",
     "text": [
      "0.2529175281524658\n",
      "9.129257678985596\n"
     ]
    },
    {
     "name": "stderr",
     "output_type": "stream",
     "text": [
      "\r",
      " 12%|█████▌                                      | 2/16 [00:19<02:13,  9.52s/it]"
     ]
    },
    {
     "name": "stdout",
     "output_type": "stream",
     "text": [
      "0.2573223114013672\n",
      "9.163619995117188\n"
     ]
    },
    {
     "name": "stderr",
     "output_type": "stream",
     "text": [
      "\r",
      " 19%|████████▎                                   | 3/16 [00:28<02:03,  9.54s/it]"
     ]
    },
    {
     "name": "stdout",
     "output_type": "stream",
     "text": [
      "0.25177454948425293\n",
      "9.107092142105103\n"
     ]
    },
    {
     "name": "stderr",
     "output_type": "stream",
     "text": [
      "\r",
      " 25%|███████████                                 | 4/16 [00:38<01:54,  9.52s/it]"
     ]
    },
    {
     "name": "stdout",
     "output_type": "stream",
     "text": [
      "0.24956536293029785\n",
      "9.210549116134644\n"
     ]
    },
    {
     "name": "stderr",
     "output_type": "stream",
     "text": [
      "\r",
      " 31%|█████████████▊                              | 5/16 [00:47<01:45,  9.55s/it]"
     ]
    },
    {
     "name": "stdout",
     "output_type": "stream",
     "text": [
      "0.2534782886505127\n",
      "9.058465003967285\n"
     ]
    },
    {
     "name": "stderr",
     "output_type": "stream",
     "text": [
      "\r",
      " 38%|████████████████▌                           | 6/16 [00:57<01:35,  9.51s/it]"
     ]
    },
    {
     "name": "stdout",
     "output_type": "stream",
     "text": [
      "0.24920082092285156\n",
      "9.123206615447998\n"
     ]
    },
    {
     "name": "stderr",
     "output_type": "stream",
     "text": [
      "\r",
      " 44%|███████████████████▎                        | 7/16 [01:06<01:25,  9.51s/it]"
     ]
    },
    {
     "name": "stdout",
     "output_type": "stream",
     "text": [
      "0.2508561611175537\n",
      "9.069206237792969\n"
     ]
    },
    {
     "name": "stderr",
     "output_type": "stream",
     "text": [
      "\r",
      " 50%|██████████████████████                      | 8/16 [01:16<01:15,  9.50s/it]"
     ]
    },
    {
     "name": "stdout",
     "output_type": "stream",
     "text": [
      "0.25950002670288086\n",
      "9.105209350585938\n"
     ]
    },
    {
     "name": "stderr",
     "output_type": "stream",
     "text": [
      "\r",
      " 56%|████████████████████████▊                   | 9/16 [01:25<01:06,  9.50s/it]"
     ]
    },
    {
     "name": "stdout",
     "output_type": "stream",
     "text": [
      "0.2508962154388428\n",
      "9.057282209396362\n"
     ]
    },
    {
     "name": "stderr",
     "output_type": "stream",
     "text": [
      "\r",
      " 62%|██████████████████████████▉                | 10/16 [01:35<00:56,  9.48s/it]"
     ]
    },
    {
     "name": "stdout",
     "output_type": "stream",
     "text": [
      "0.251495361328125\n",
      "9.170268774032593\n"
     ]
    },
    {
     "name": "stderr",
     "output_type": "stream",
     "text": [
      "\r",
      " 69%|█████████████████████████████▌             | 11/16 [01:44<00:47,  9.51s/it]"
     ]
    },
    {
     "name": "stdout",
     "output_type": "stream",
     "text": [
      "0.2523844242095947\n",
      "9.2441246509552\n"
     ]
    },
    {
     "name": "stderr",
     "output_type": "stream",
     "text": [
      "\r",
      " 75%|████████████████████████████████▎          | 12/16 [01:54<00:38,  9.55s/it]"
     ]
    },
    {
     "name": "stdout",
     "output_type": "stream",
     "text": [
      "0.2554202079772949\n",
      "9.283914566040039\n"
     ]
    },
    {
     "name": "stderr",
     "output_type": "stream",
     "text": [
      "\r",
      " 81%|██████████████████████████████████▉        | 13/16 [02:03<00:28,  9.59s/it]"
     ]
    },
    {
     "name": "stdout",
     "output_type": "stream",
     "text": [
      "0.2552647590637207\n",
      "9.360177516937256\n"
     ]
    },
    {
     "name": "stderr",
     "output_type": "stream",
     "text": [
      "\r",
      " 88%|█████████████████████████████████████▋     | 14/16 [02:13<00:19,  9.64s/it]"
     ]
    },
    {
     "name": "stdout",
     "output_type": "stream",
     "text": [
      "0.26418638229370117\n",
      "9.097150325775146\n"
     ]
    },
    {
     "name": "stderr",
     "output_type": "stream",
     "text": [
      "\r",
      " 94%|████████████████████████████████████████▎  | 15/16 [02:23<00:09,  9.60s/it]"
     ]
    },
    {
     "name": "stdout",
     "output_type": "stream",
     "text": [
      "0.2679741382598877\n",
      "9.116955995559692\n"
     ]
    },
    {
     "name": "stderr",
     "output_type": "stream",
     "text": [
      "100%|███████████████████████████████████████████| 16/16 [02:32<00:00,  9.54s/it]"
     ]
    },
    {
     "name": "stdout",
     "output_type": "stream",
     "text": [
      "0.26327967643737793\n"
     ]
    },
    {
     "name": "stderr",
     "output_type": "stream",
     "text": [
      "\n"
     ]
    }
   ],
   "source": [
    "path = 'Matching/cross/'\n",
    "out_path = 'Output/'\n",
    "template = cv2.imread('Matching/pattern/Template_BorderCross.bmp')\n",
    "template_small = cv2.imread('Matching/pattern/Template_cross.bmp')\n",
    "\n",
    "\n",
    "for file_name in  tqdm(os.listdir(path)):\n",
    "    image = cv2.imread(path + file_name)\n",
    "    image1 = cv2.resize(image, (image.shape[1]// pry, image.shape[0]// pry))\n",
    "    template1 = cv2.resize(template, (template.shape[1]// pry, template.shape[0]// pry))\n",
    "    template2 = cv2.resize(template_small, (template_small.shape[1]// pry, template_small.shape[0]// pry))\n",
    "\n",
    "    nccc = template_matching(image1, template1)\n",
    "\n",
    "    h, w = np.where(nccc == np.max(nccc))\n",
    "    h, w = h[0], w[0]\n",
    "\n",
    "    image_match = image1[h:h+template1.shape[1], w:w+template1.shape[0]].copy()\n",
    "\n",
    "    image_drawed1 = draw(image,h*pry,w*pry,template.shape[1],template.shape[0],[255,0,255])\n",
    "\n",
    "    center1_h,center1_w = center(h*pry,w*pry,template.shape[1],template.shape[0])\n",
    "\n",
    "\n",
    "    nccc2 = template_matching(image_match,template2)\n",
    "\n",
    "    h_small, w_small = np.where(nccc2 == np.max(nccc2))\n",
    "    h_small, w_small = h_small[0], w_small[0]\n",
    "\n",
    "    center2_h,center2_w = center(h*pry + h_small*pry,w*pry + w_small*pry,template_small.shape[1],template_small.shape[0])\n",
    "\n",
    "    distance = center_diff(center1_h,center1_w,center2_h,center2_w)\n",
    "\n",
    "    image_drawed2 = draw(image_drawed1,h*pry + h_small*pry,w*pry + w_small*pry,\n",
    "                         template_small.shape[1],template_small.shape[0],[0,0,255])\n",
    "\n",
    "\n",
    "    out = cv2.putText(image_drawed2, \"distance: \" + str(round(distance,4)), (40, 70), cv2.FONT_HERSHEY_SIMPLEX,\n",
    "      2, (255, 255, 255), 5, cv2.LINE_AA)\n",
    "\n",
    "    # print(image_drawed.shape)\n",
    "    # plt.imshow(image_match[h_small:h_small+template2.shape[1], w_small:w_small+template2.shape[0]])\n",
    "    plt.imsave((out_path + file_name).replace(\"bmp\",\"png\"),out)"
   ]
  },
  {
   "cell_type": "code",
   "execution_count": null,
   "id": "b4409cf7",
   "metadata": {},
   "outputs": [],
   "source": []
  },
  {
   "cell_type": "code",
   "execution_count": null,
   "id": "b807cdac",
   "metadata": {},
   "outputs": [],
   "source": []
  }
 ],
 "metadata": {
  "kernelspec": {
   "display_name": "Python 3 (ipykernel)",
   "language": "python",
   "name": "python3"
  },
  "language_info": {
   "codemirror_mode": {
    "name": "ipython",
    "version": 3
   },
   "file_extension": ".py",
   "mimetype": "text/x-python",
   "name": "python",
   "nbconvert_exporter": "python",
   "pygments_lexer": "ipython3",
   "version": "3.8.13"
  }
 },
 "nbformat": 4,
 "nbformat_minor": 5
}
