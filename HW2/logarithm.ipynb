{
 "cells": [
  {
   "cell_type": "code",
   "execution_count": 115,
   "id": "d35d055c",
   "metadata": {},
   "outputs": [],
   "source": [
    "import math\n",
    "tmp = []\n",
    "inttmp = []\n",
    "log = []\n",
    "c = 30"
   ]
  },
  {
   "cell_type": "code",
   "execution_count": 116,
   "id": "2639a075",
   "metadata": {},
   "outputs": [],
   "source": [
    "with open(\"logarithm.bmp\", \"rb\") as f:\n",
    "    byte = f.read(1)\n",
    "    while byte != b\"\":\n",
    "        # Do stuff with byte.\n",
    "        tmp.append(byte)\n",
    "        byte = f.read(1)\n",
    "        "
   ]
  },
  {
   "cell_type": "code",
   "execution_count": 117,
   "id": "ed7e1729",
   "metadata": {},
   "outputs": [
    {
     "name": "stdout",
     "output_type": "stream",
     "text": [
      "6\n"
     ]
    }
   ],
   "source": [
    "print(int.from_bytes(tmp[1079], \"big\") )"
   ]
  },
  {
   "cell_type": "code",
   "execution_count": 118,
   "id": "5367908f",
   "metadata": {},
   "outputs": [],
   "source": [
    "for i in range(len(tmp)):\n",
    "    inttmp.append(int.from_bytes(tmp[i], \"big\"))"
   ]
  },
  {
   "cell_type": "code",
   "execution_count": 119,
   "id": "7e5dd64b",
   "metadata": {},
   "outputs": [],
   "source": [
    "for i in range(1078,len(inttmp)):\n",
    "    if(inttmp[i] != 0):\n",
    "        log.append(int(c * math.log(1 + inttmp[i]  )))\n",
    "    else:\n",
    "        log.append(0)"
   ]
  },
  {
   "cell_type": "code",
   "execution_count": 120,
   "id": "b933717b",
   "metadata": {},
   "outputs": [],
   "source": [
    "f.close()"
   ]
  },
  {
   "cell_type": "code",
   "execution_count": 121,
   "id": "e7e1b8db",
   "metadata": {},
   "outputs": [],
   "source": [
    "res = open(\"log.bmp\",\"wb+\") "
   ]
  },
  {
   "cell_type": "code",
   "execution_count": 122,
   "id": "47a649ad",
   "metadata": {},
   "outputs": [
    {
     "data": {
      "text/plain": [
       "240000"
      ]
     },
     "execution_count": 122,
     "metadata": {},
     "output_type": "execute_result"
    }
   ],
   "source": [
    "res.write(bytes(inttmp[0:1078]))\n",
    "res.write(bytes(log))"
   ]
  },
  {
   "cell_type": "code",
   "execution_count": 123,
   "id": "5d23105f",
   "metadata": {},
   "outputs": [
    {
     "data": {
      "text/plain": [
       "<function BufferedRandom.close>"
      ]
     },
     "execution_count": 123,
     "metadata": {},
     "output_type": "execute_result"
    }
   ],
   "source": [
    "res.close"
   ]
  }
 ],
 "metadata": {
  "kernelspec": {
   "display_name": "Python 3 (ipykernel)",
   "language": "python",
   "name": "python3"
  },
  "language_info": {
   "codemirror_mode": {
    "name": "ipython",
    "version": 3
   },
   "file_extension": ".py",
   "mimetype": "text/x-python",
   "name": "python",
   "nbconvert_exporter": "python",
   "pygments_lexer": "ipython3",
   "version": "3.8.13"
  }
 },
 "nbformat": 4,
 "nbformat_minor": 5
}
