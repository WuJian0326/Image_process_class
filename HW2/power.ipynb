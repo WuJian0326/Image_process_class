{
 "cells": [
  {
   "cell_type": "code",
   "execution_count": 31,
   "id": "5ed90910",
   "metadata": {},
   "outputs": [],
   "source": [
    "import math\n",
    "tmp = []\n",
    "inttmp = []\n",
    "c = 255\n",
    "r = 1.8"
   ]
  },
  {
   "cell_type": "code",
   "execution_count": 32,
   "id": "79413413",
   "metadata": {},
   "outputs": [],
   "source": [
    "with open(\"power_law.bmp\", \"rb\") as f:\n",
    "    byte = f.read(1)\n",
    "    while byte != b\"\":\n",
    "        # Do stuff with byte.\n",
    "        tmp.append(byte)\n",
    "        byte = f.read(1)\n",
    "        "
   ]
  },
  {
   "cell_type": "code",
   "execution_count": 33,
   "id": "c935777f",
   "metadata": {},
   "outputs": [],
   "source": [
    "for i in range(len(tmp)):\n",
    "    inttmp.append((int.from_bytes(tmp[i], \"big\")))\n"
   ]
  },
  {
   "cell_type": "code",
   "execution_count": 34,
   "id": "6cd439b6",
   "metadata": {},
   "outputs": [],
   "source": [
    "power = []\n",
    "powerint = []"
   ]
  },
  {
   "cell_type": "code",
   "execution_count": 35,
   "id": "bf6c0dd5",
   "metadata": {},
   "outputs": [],
   "source": [
    "for i in range(1078,len(inttmp)):\n",
    "    power.append(c * pow(float(inttmp[i]) / 255 ,r))"
   ]
  },
  {
   "cell_type": "code",
   "execution_count": 36,
   "id": "c2431867",
   "metadata": {},
   "outputs": [],
   "source": [
    "for i in range(len(power)):\n",
    "    powerint.append(int(power[i]))"
   ]
  },
  {
   "cell_type": "code",
   "execution_count": 38,
   "id": "8362aacb",
   "metadata": {},
   "outputs": [],
   "source": [
    "f.close()"
   ]
  },
  {
   "cell_type": "code",
   "execution_count": 39,
   "id": "7b42963b",
   "metadata": {},
   "outputs": [],
   "source": [
    "res = open(\"power.bmp\",\"wb+\") "
   ]
  },
  {
   "cell_type": "code",
   "execution_count": 40,
   "id": "5297d8a8",
   "metadata": {},
   "outputs": [
    {
     "data": {
      "text/plain": [
       "169472"
      ]
     },
     "execution_count": 40,
     "metadata": {},
     "output_type": "execute_result"
    }
   ],
   "source": [
    "res.write(bytes(inttmp[0:1078]))\n",
    "res.write(bytes(powerint))"
   ]
  },
  {
   "cell_type": "code",
   "execution_count": 41,
   "id": "523d7c88",
   "metadata": {},
   "outputs": [
    {
     "data": {
      "text/plain": [
       "<function BufferedRandom.close>"
      ]
     },
     "execution_count": 41,
     "metadata": {},
     "output_type": "execute_result"
    }
   ],
   "source": [
    "res.close"
   ]
  }
 ],
 "metadata": {
  "kernelspec": {
   "display_name": "Python 3 (ipykernel)",
   "language": "python",
   "name": "python3"
  },
  "language_info": {
   "codemirror_mode": {
    "name": "ipython",
    "version": 3
   },
   "file_extension": ".py",
   "mimetype": "text/x-python",
   "name": "python",
   "nbconvert_exporter": "python",
   "pygments_lexer": "ipython3",
   "version": "3.8.13"
  }
 },
 "nbformat": 4,
 "nbformat_minor": 5
}
