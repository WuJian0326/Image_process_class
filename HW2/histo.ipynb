{
 "cells": [
  {
   "cell_type": "code",
   "execution_count": 1,
   "id": "5ed90910",
   "metadata": {},
   "outputs": [],
   "source": [
    "import math\n",
    "tmp = []\n",
    "inttmp = []\n",
    "total = []\n",
    "prob = []\n",
    "probsum = []\n",
    "histo = []"
   ]
  },
  {
   "cell_type": "code",
   "execution_count": 2,
   "id": "79413413",
   "metadata": {},
   "outputs": [],
   "source": [
    "with open(\"HistogramEQ.bmp\", \"rb\") as f:\n",
    "    byte = f.read(1)\n",
    "    while byte != b\"\":\n",
    "        # Do stuff with byte.\n",
    "        tmp.append(byte)\n",
    "        byte = f.read(1)\n",
    "        "
   ]
  },
  {
   "cell_type": "code",
   "execution_count": 3,
   "id": "c935777f",
   "metadata": {},
   "outputs": [],
   "source": [
    "for i in range(len(tmp)):\n",
    "    inttmp.append((int.from_bytes(tmp[i], \"big\")))"
   ]
  },
  {
   "cell_type": "code",
   "execution_count": 4,
   "id": "e872cad8",
   "metadata": {},
   "outputs": [],
   "source": [
    "for i in range(256):\n",
    "    total.append(0)\n"
   ]
  },
  {
   "cell_type": "code",
   "execution_count": 5,
   "id": "4dfd61ce",
   "metadata": {},
   "outputs": [],
   "source": [
    "for i in range(1078,len(inttmp)):\n",
    "    total[inttmp[i]] += 1 "
   ]
  },
  {
   "cell_type": "code",
   "execution_count": 6,
   "id": "92594e46",
   "metadata": {},
   "outputs": [],
   "source": [
    "for i in range(256):\n",
    "    prob.append(float(total[i]) / (len(inttmp)-1078))"
   ]
  },
  {
   "cell_type": "code",
   "execution_count": 7,
   "id": "2a14cfac",
   "metadata": {},
   "outputs": [],
   "source": [
    "sum = 0.0\n",
    "for i in range(256):\n",
    "    probsum.append(sum + prob[i])\n",
    "    sum += prob[i]"
   ]
  },
  {
   "cell_type": "code",
   "execution_count": 8,
   "id": "194201a9",
   "metadata": {},
   "outputs": [],
   "source": [
    "for i in range(1078,len(inttmp)):\n",
    "    histo.append(int(probsum[inttmp[i]] * 255) )"
   ]
  },
  {
   "cell_type": "code",
   "execution_count": 9,
   "id": "8362aacb",
   "metadata": {},
   "outputs": [],
   "source": [
    "f.close()"
   ]
  },
  {
   "cell_type": "code",
   "execution_count": 10,
   "id": "7b42963b",
   "metadata": {},
   "outputs": [],
   "source": [
    "res = open(\"histo.bmp\",\"wb+\") "
   ]
  },
  {
   "cell_type": "code",
   "execution_count": 11,
   "id": "5297d8a8",
   "metadata": {},
   "outputs": [
    {
     "data": {
      "text/plain": [
       "700416"
      ]
     },
     "execution_count": 11,
     "metadata": {},
     "output_type": "execute_result"
    }
   ],
   "source": [
    "res.write(bytes(inttmp[0:1078]))\n",
    "res.write(bytes(histo))"
   ]
  },
  {
   "cell_type": "code",
   "execution_count": 12,
   "id": "523d7c88",
   "metadata": {},
   "outputs": [
    {
     "data": {
      "text/plain": [
       "<function BufferedRandom.close>"
      ]
     },
     "execution_count": 12,
     "metadata": {},
     "output_type": "execute_result"
    }
   ],
   "source": [
    "res.close"
   ]
  },
  {
   "cell_type": "code",
   "execution_count": null,
   "id": "f1db296b",
   "metadata": {},
   "outputs": [],
   "source": []
  }
 ],
 "metadata": {
  "kernelspec": {
   "display_name": "Python 3 (ipykernel)",
   "language": "python",
   "name": "python3"
  },
  "language_info": {
   "codemirror_mode": {
    "name": "ipython",
    "version": 3
   },
   "file_extension": ".py",
   "mimetype": "text/x-python",
   "name": "python",
   "nbconvert_exporter": "python",
   "pygments_lexer": "ipython3",
   "version": "3.8.13"
  }
 },
 "nbformat": 4,
 "nbformat_minor": 5
}
