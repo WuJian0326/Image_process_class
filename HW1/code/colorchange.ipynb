{
  "nbformat": 4,
  "nbformat_minor": 0,
  "metadata": {
    "colab": {
      "provenance": []
    },
    "kernelspec": {
      "name": "python3",
      "display_name": "Python 3"
    },
    "language_info": {
      "name": "python"
    }
  },
  "cells": [
    {
      "cell_type": "code",
      "source": [
        "img_list = []\n",
        "header_byte = 54\n",
        "inv = 255\n",
        "RGBQUAD = 256*4"
      ],
      "metadata": {
        "id": "FU17tqKtWzVP"
      },
      "execution_count": 45,
      "outputs": []
    },
    {
      "cell_type": "code",
      "source": [
        "with open(\"testgray.bmp\", \"rb\") as f:\n",
        "    byte = f.read(1)\n",
        "    while byte != b\"\":\n",
        "        # Do stuff with byte.\n",
        "        img_list.append(byte)\n",
        "        # inv_list.append(byte)\n",
        "        byte = f.read(1)"
      ],
      "metadata": {
        "id": "oTO-8k6AWtVk"
      },
      "execution_count": 46,
      "outputs": []
    },
    {
      "cell_type": "code",
      "source": [
        "file_blue = open(\"./green.bmp\", \"wb\")"
      ],
      "metadata": {
        "id": "n-2tINh6WtzQ"
      },
      "execution_count": 47,
      "outputs": []
    },
    {
      "cell_type": "code",
      "source": [
        "for i in range(header_byte,header_byte + RGBQUAD):\n",
        "    if((i - header_byte) % 4 == 0): #bule %4 == 0, green %4 == 1, red %4 == 2 \n",
        "      img_list[i] = b'\\x00'\n",
        "    if((i - header_byte) % 4 == 2): #bule %4 == 0, green %4 == 1, red %4 == 2 \n",
        "      img_list[i] = b'\\x00'"
      ],
      "metadata": {
        "id": "9qpwbd5ThkAS"
      },
      "execution_count": 48,
      "outputs": []
    },
    {
      "cell_type": "code",
      "source": [
        "for i in range(len(img_list)):\n",
        "  file_blue.write(img_list[i])"
      ],
      "metadata": {
        "id": "_Dq9EEP2Ya1p"
      },
      "execution_count": 49,
      "outputs": []
    },
    {
      "cell_type": "code",
      "source": [
        "file_blue.close()"
      ],
      "metadata": {
        "id": "TPKcI7aKYfhe"
      },
      "execution_count": 50,
      "outputs": []
    }
  ]
}