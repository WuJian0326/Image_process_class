{
  "nbformat": 4,
  "nbformat_minor": 0,
  "metadata": {
    "colab": {
      "provenance": []
    },
    "kernelspec": {
      "name": "python3",
      "display_name": "Python 3"
    },
    "language_info": {
      "name": "python"
    }
  },
  "cells": [
    {
      "cell_type": "code",
      "execution_count": 1,
      "metadata": {
        "id": "CJPy4Z2q9Inz"
      },
      "outputs": [],
      "source": [
        "img = []\n",
        "img2 = []\n"
      ]
    },
    {
      "cell_type": "code",
      "source": [
        "import math"
      ],
      "metadata": {
        "id": "c_TVq431BWOs"
      },
      "execution_count": 2,
      "outputs": []
    },
    {
      "cell_type": "code",
      "source": [
        "x1 = 250 // 2 #85\n",
        "y1 = 250 // 3 #128\n",
        "x2 = 250 // 2 \n",
        "y2 = 250 // 3 * 2 "
      ],
      "metadata": {
        "id": "uBo4BCc797Ry"
      },
      "execution_count": 3,
      "outputs": []
    },
    {
      "cell_type": "code",
      "source": [
        "def calgray(Xorg,Yorg,Xtar,Ytar):\n",
        "  R = (float(Xorg) - float(Xtar)) ** 2 + (float(Yorg) - float(Ytar)) ** 2\n",
        "  R = math.sqrt(R) # Distance\n",
        "  # Distance / 2 pi \n",
        "  res = math.cos(R*math.pi/180 * 24)* 127.5 + 127.5\n",
        "  return res"
      ],
      "metadata": {
        "id": "N1kgLUS0-lWh"
      },
      "execution_count": 4,
      "outputs": []
    },
    {
      "cell_type": "code",
      "source": [
        "print(calgray(85,128,86,128))"
      ],
      "metadata": {
        "colab": {
          "base_uri": "https://localhost:8080/"
        },
        "id": "SGR_aUJ6U2ik",
        "outputId": "3f5bab96-8798-4e30-f6d8-9d43dec06d51"
      },
      "execution_count": 5,
      "outputs": [
        {
          "output_type": "stream",
          "name": "stdout",
          "text": [
            "243.9770458494316\n"
          ]
        }
      ]
    },
    {
      "cell_type": "code",
      "source": [
        "for i in range(250):\n",
        "  for j in range(250):\n",
        "    k = calgray(x1,y1,i,j)\n",
        "    k2 = calgray(x2,y2,i,j)\n",
        "    ksum = int((k + k2) / 2) \n",
        "    # if(ksum == 256):\n",
        "    #   ksum = 255\n",
        "    img.append(ksum)\n",
        "  img.append(0x00)\n",
        "  img.append(0x00)\n",
        "  img2.append(img)\n",
        "  del img\n",
        "  img = []\n",
        "  \n",
        "  # break"
      ],
      "metadata": {
        "id": "t_djgtAD-apx"
      },
      "execution_count": 6,
      "outputs": []
    },
    {
      "cell_type": "code",
      "source": [
        "print(len(img2[239]))\n",
        "# print(img2[1][0])\n",
        "# print(img2[2][0])\n",
        "# print(img2[3][0])"
      ],
      "metadata": {
        "colab": {
          "base_uri": "https://localhost:8080/"
        },
        "id": "ppJ0NPyNPn6n",
        "outputId": "b4d0ba4b-485c-4f1a-d13b-5bf547889280"
      },
      "execution_count": 7,
      "outputs": [
        {
          "output_type": "stream",
          "name": "stdout",
          "text": [
            "252\n"
          ]
        }
      ]
    },
    {
      "cell_type": "code",
      "source": [
        "def RGBQUAD():\n",
        "  for i in range(0,0xff + 1 ,1):\n",
        "    temp.append(i) #b\n",
        "    temp.append(i) #g\n",
        "    temp.append(i) #r\n",
        "    temp.append(0x00) #reserve"
      ],
      "metadata": {
        "id": "YharSvLNOCYM"
      },
      "execution_count": 8,
      "outputs": []
    },
    {
      "cell_type": "code",
      "source": [
        "temp = []"
      ],
      "metadata": {
        "id": "J1y28jiyOEB9"
      },
      "execution_count": 9,
      "outputs": []
    },
    {
      "cell_type": "code",
      "source": [
        "header = 14\n",
        "info = 40\n",
        "QUAD = 256 * 4\n",
        "size = 252 * 250"
      ],
      "metadata": {
        "id": "0mtclOhhOK1N"
      },
      "execution_count": 10,
      "outputs": []
    },
    {
      "cell_type": "code",
      "source": [
        "total = header + info + QUAD + size\n",
        "print(total)"
      ],
      "metadata": {
        "colab": {
          "base_uri": "https://localhost:8080/"
        },
        "id": "NOqXPfYrOOXb",
        "outputId": "12afee72-8387-4084-ba2a-1d617f9696dd"
      },
      "execution_count": 11,
      "outputs": [
        {
          "output_type": "stream",
          "name": "stdout",
          "text": [
            "64078\n"
          ]
        }
      ]
    },
    {
      "cell_type": "code",
      "source": [
        "offbyte = header + info + QUAD\n",
        "print((offbyte))"
      ],
      "metadata": {
        "colab": {
          "base_uri": "https://localhost:8080/"
        },
        "id": "8R3Oqbw_OPez",
        "outputId": "882ad92a-73e8-4574-d92e-f6cf34c4f9d6"
      },
      "execution_count": 12,
      "outputs": [
        {
          "output_type": "stream",
          "name": "stdout",
          "text": [
            "1078\n"
          ]
        }
      ]
    },
    {
      "cell_type": "code",
      "source": [
        "temp.append(0x42)\n",
        "temp.append(0x4D)\n",
        "\n",
        "temp.append(0x4e)\n",
        "temp.append(0xf8)\n",
        "temp.append(0x00)\n",
        "temp.append(0x00)\n",
        "\n",
        "temp.append(0x00)\n",
        "temp.append(0x00)\n",
        "temp.append(0x00)\n",
        "temp.append(0x00) #reserve\n",
        "\n",
        "temp.append(0x36)\n",
        "temp.append(0x04)\n",
        "temp.append(0x00)\n",
        "temp.append(0x00) #offbyte\n",
        "\n",
        "temp.append(0x28)\n",
        "temp.append(0x00)\n",
        "temp.append(0x00)\n",
        "temp.append(0x00) #bisize\n",
        "\n",
        "temp.append(0xfa)\n",
        "temp.append(0x00)\n",
        "temp.append(0x00)\n",
        "temp.append(0x00) #width = 255\n",
        "\n",
        "temp.append(0xfa)\n",
        "temp.append(0x00)\n",
        "temp.append(0x00)\n",
        "temp.append(0x00) #height = 10\n",
        "\n",
        "temp.append(0x01)\n",
        "temp.append(0x00) #plane\n",
        "\n",
        "temp.append(0x08)\n",
        "temp.append(0x00) #bit count\n",
        "\n",
        "temp.append(0x00)\n",
        "temp.append(0x00)\n",
        "temp.append(0x00)\n",
        "temp.append(0x00) #compression\n",
        "\n",
        "temp.append(0x00)\n",
        "temp.append(0x00)\n",
        "temp.append(0x00)\n",
        "temp.append(0x00) #compression size\n",
        "\n",
        "temp.append(0x13)\n",
        "temp.append(0x0b)\n",
        "temp.append(0x00)\n",
        "temp.append(0x00) #horizon\n",
        "\n",
        "temp.append(0x13)\n",
        "temp.append(0x0b)\n",
        "temp.append(0x00)\n",
        "temp.append(0x00) #vertical\n",
        "\n",
        "temp.append(0x00)\n",
        "temp.append(0x00)\n",
        "temp.append(0x00)\n",
        "temp.append(0x00) #color used \n",
        "\n",
        "temp.append(0x00)\n",
        "temp.append(0x00)\n",
        "temp.append(0x00)\n",
        "temp.append(0x00) #color important\n",
        "\n"
      ],
      "metadata": {
        "id": "pIL3JHrjOSTS"
      },
      "execution_count": 13,
      "outputs": []
    },
    {
      "cell_type": "code",
      "source": [
        "RGBQUAD()"
      ],
      "metadata": {
        "id": "ApLQl-QJOXRg"
      },
      "execution_count": 14,
      "outputs": []
    },
    {
      "cell_type": "code",
      "source": [
        "for k in range(250):\n",
        "  for m in range(252):\n",
        "    temp.append(img2[k][m])\n",
        "  "
      ],
      "metadata": {
        "id": "95rq7LTAOY6b"
      },
      "execution_count": 15,
      "outputs": []
    },
    {
      "cell_type": "code",
      "source": [
        "f=open('./dot.bmp','wb+')\n",
        "# data = bytearray(f.read())"
      ],
      "metadata": {
        "id": "Pw_8wiRgOb_r"
      },
      "execution_count": 16,
      "outputs": []
    },
    {
      "cell_type": "code",
      "source": [
        "f.write(bytes(temp))"
      ],
      "metadata": {
        "colab": {
          "base_uri": "https://localhost:8080/"
        },
        "id": "zt6kw5QvOdhx",
        "outputId": "5d4f2d42-d0e9-442d-bbc8-29573f69772a"
      },
      "execution_count": 17,
      "outputs": [
        {
          "output_type": "execute_result",
          "data": {
            "text/plain": [
              "64078"
            ]
          },
          "metadata": {},
          "execution_count": 17
        }
      ]
    },
    {
      "cell_type": "code",
      "source": [
        "f.close()"
      ],
      "metadata": {
        "id": "TMdSE94cOfnG"
      },
      "execution_count": 18,
      "outputs": []
    }
  ]
}