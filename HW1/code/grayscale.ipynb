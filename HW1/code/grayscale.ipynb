{
  "nbformat": 4,
  "nbformat_minor": 0,
  "metadata": {
    "colab": {
      "provenance": []
    },
    "kernelspec": {
      "name": "python3",
      "display_name": "Python 3"
    },
    "language_info": {
      "name": "python"
    }
  },
  "cells": [
    {
      "cell_type": "code",
      "source": [
        "def RGBQUAD(QUAD_list):\n",
        "  for i in range(0,0xff + 1 ,1):\n",
        "    QUAD_list.append(i) #b\n",
        "    QUAD_list.append(i) #g\n",
        "    QUAD_list.append(i) #r\n",
        "    QUAD_list.append(0x00) #reserve\n"
      ],
      "metadata": {
        "id": "sD33xlQGjjcg"
      },
      "execution_count": 1,
      "outputs": []
    },
    {
      "cell_type": "code",
      "source": [
        "def imgarray(imglist):\n",
        "  for j in range(1,0xff+1):\n",
        "    temp.append(j)\n",
        "  temp.append(0x00)\n"
      ],
      "metadata": {
        "id": "73d1DkuQlRkY"
      },
      "execution_count": 2,
      "outputs": []
    },
    {
      "cell_type": "code",
      "source": [
        "temp = []"
      ],
      "metadata": {
        "id": "SQyq-Tzlcr-l"
      },
      "execution_count": 3,
      "outputs": []
    },
    {
      "cell_type": "code",
      "source": [
        "#header 14 +info 40 + quad 256*4 + 256*256  = 3638\n",
        "#offbyte = 26678 - 25600 = 1078"
      ],
      "metadata": {
        "id": "M1JeW9OlhGWT"
      },
      "execution_count": 4,
      "outputs": []
    },
    {
      "cell_type": "code",
      "source": [
        "14 + 40 + (256*10*4) "
      ],
      "metadata": {
        "colab": {
          "base_uri": "https://localhost:8080/"
        },
        "id": "HSOgVVB0hXrz",
        "outputId": "3ffc3523-44d3-4bba-e877-1884111f7a66"
      },
      "execution_count": 5,
      "outputs": [
        {
          "output_type": "execute_result",
          "data": {
            "text/plain": [
              "10294"
            ]
          },
          "metadata": {},
          "execution_count": 5
        }
      ]
    },
    {
      "cell_type": "code",
      "source": [
        "header = 14\n",
        "info = 40\n",
        "QUAD = 256 * 4\n",
        "size = 256 * 10"
      ],
      "metadata": {
        "id": "hlLAcso3y-YD"
      },
      "execution_count": 6,
      "outputs": []
    },
    {
      "cell_type": "code",
      "source": [
        "total = header + info + QUAD + size\n",
        "print(total)"
      ],
      "metadata": {
        "colab": {
          "base_uri": "https://localhost:8080/"
        },
        "id": "bdC6ZGfNysGC",
        "outputId": "2cfd9d83-d57e-42fa-d793-2d05b28d1db5"
      },
      "execution_count": 7,
      "outputs": [
        {
          "output_type": "stream",
          "name": "stdout",
          "text": [
            "3638\n"
          ]
        }
      ]
    },
    {
      "cell_type": "code",
      "source": [
        "offbyte = header + info + QUAD\n",
        "print((offbyte))"
      ],
      "metadata": {
        "colab": {
          "base_uri": "https://localhost:8080/"
        },
        "id": "_BFMlwaLv-rh",
        "outputId": "ac833cf7-4b4f-4819-8872-c282ec1333db"
      },
      "execution_count": 8,
      "outputs": [
        {
          "output_type": "stream",
          "name": "stdout",
          "text": [
            "1078\n"
          ]
        }
      ]
    },
    {
      "cell_type": "code",
      "source": [
        "temp.append(0x42)\n",
        "temp.append(0x4D)\n",
        "\n",
        "temp.append(0x36)\n",
        "temp.append(0x0e)\n",
        "temp.append(0x00)\n",
        "temp.append(0x00)\n",
        "\n",
        "temp.append(0x00)\n",
        "temp.append(0x00)\n",
        "temp.append(0x00)\n",
        "temp.append(0x00) #reserve\n",
        "\n",
        "temp.append(0x36)\n",
        "temp.append(0x04)\n",
        "temp.append(0x00)\n",
        "temp.append(0x00) #offbyte\n",
        "\n",
        "temp.append(0x28)\n",
        "temp.append(0x00)\n",
        "temp.append(0x00)\n",
        "temp.append(0x00) #bisize\n",
        "\n",
        "temp.append(0xff)\n",
        "temp.append(0x00)\n",
        "temp.append(0x00)\n",
        "temp.append(0x00) #width = 255\n",
        "\n",
        "temp.append(0x0a)\n",
        "temp.append(0x00)\n",
        "temp.append(0x00)\n",
        "temp.append(0x00) #height = 10\n",
        "\n",
        "temp.append(0x01)\n",
        "temp.append(0x00) #plane\n",
        "\n",
        "temp.append(0x08)\n",
        "temp.append(0x00) #bit count\n",
        "\n",
        "temp.append(0x00)\n",
        "temp.append(0x00)\n",
        "temp.append(0x00)\n",
        "temp.append(0x00) #compression\n",
        "\n",
        "temp.append(0x00)\n",
        "temp.append(0x00)\n",
        "temp.append(0x00)\n",
        "temp.append(0x00) #compression size\n",
        "\n",
        "temp.append(0x13)\n",
        "temp.append(0x0b)\n",
        "temp.append(0x00)\n",
        "temp.append(0x00) #horizon\n",
        "\n",
        "temp.append(0x13)\n",
        "temp.append(0x0b)\n",
        "temp.append(0x00)\n",
        "temp.append(0x00) #vertical\n",
        "\n",
        "temp.append(0x00)\n",
        "temp.append(0x00)\n",
        "temp.append(0x00)\n",
        "temp.append(0x00) #color used \n",
        "\n",
        "temp.append(0x00)\n",
        "temp.append(0x00)\n",
        "temp.append(0x00)\n",
        "temp.append(0x00) #color important\n",
        "\n"
      ],
      "metadata": {
        "id": "DS5wAHHecuNS"
      },
      "execution_count": 9,
      "outputs": []
    },
    {
      "cell_type": "code",
      "source": [
        "RGBQUAD(temp)"
      ],
      "metadata": {
        "id": "Tt96AhyfjtFH"
      },
      "execution_count": 10,
      "outputs": []
    },
    {
      "cell_type": "code",
      "source": [
        "for k in range(10):\n",
        "  imgarray(temp)"
      ],
      "metadata": {
        "id": "B5WR7WN9lOz5"
      },
      "execution_count": 11,
      "outputs": []
    },
    {
      "cell_type": "code",
      "source": [
        "f=open('./grayscale.bmp','wb+')\n",
        "# data = bytearray(f.read())"
      ],
      "metadata": {
        "id": "jfHzvleB3Vlx"
      },
      "execution_count": 12,
      "outputs": []
    },
    {
      "cell_type": "code",
      "source": [
        "f.write(bytes(temp))"
      ],
      "metadata": {
        "colab": {
          "base_uri": "https://localhost:8080/"
        },
        "id": "5OwuRYDceZaK",
        "outputId": "0d9e2993-44b7-4d99-cac3-dab38dec021b"
      },
      "execution_count": 13,
      "outputs": [
        {
          "output_type": "execute_result",
          "data": {
            "text/plain": [
              "3638"
            ]
          },
          "metadata": {},
          "execution_count": 13
        }
      ]
    },
    {
      "cell_type": "code",
      "source": [
        "f.close()"
      ],
      "metadata": {
        "id": "8MhIGMam8slQ"
      },
      "execution_count": 14,
      "outputs": []
    },
    {
      "cell_type": "code",
      "source": [],
      "metadata": {
        "id": "OA2EqWvd5NQP"
      },
      "execution_count": 14,
      "outputs": []
    }
  ]
}